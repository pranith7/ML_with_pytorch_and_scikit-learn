{
 "cells": [
  {
   "cell_type": "code",
   "execution_count": 1,
   "metadata": {},
   "outputs": [
    {
     "name": "stdout",
     "output_type": "stream",
     "text": [
      "Note: you may need to restart the kernel to use updated packages.\n"
     ]
    }
   ],
   "source": [
    "# !pip install \n",
    "%pip install -q --upgrade pip -r requirements.txt"
   ]
  },
  {
   "cell_type": "markdown",
   "metadata": {},
   "source": [
    "# Modeling Sequential Data Using Recurrent Neural Networks"
   ]
  },
  {
   "cell_type": "markdown",
   "metadata": {},
   "source": [
    "We will cover the following topics:\n",
    "\n",
    "* Introducing sequential data\n",
    "* RNNs for modeling sequences\n",
    "* Long short-term memory\n",
    "* Truncated backpropagation through time\n",
    "* Implementing a multilayer RNN for sequence modeling in PyTorch\n",
    "* Project one: RNN sentiment analysis of the IMDb movie review dataset\n",
    "* Project two: RNN character-level language modeling with LSTM cells, using text data from Jules Verne’s The Mysterious Island\n",
    "* Using gradient clipping to avoid exploding gradients\n"
   ]
  },
  {
   "cell_type": "code",
   "execution_count": 1,
   "metadata": {},
   "outputs": [
    {
     "name": "stdout",
     "output_type": "stream",
     "text": [
      "W_xh shape: torch.Size([2, 5])\n",
      "W_hh shape: torch.Size([2, 2])\n",
      "b_hh shape: torch.Size([2])\n",
      "b_xh shape: torch.Size([2])\n"
     ]
    }
   ],
   "source": [
    "import torch\n",
    "import torch.nn as nn\n",
    "torch.manual_seed(1)\n",
    "rnn_layer = nn.RNN(input_size=5,hidden_size=2,num_layers=1,batch_first=True)\n",
    "w_xh = rnn_layer.weight_ih_l0\n",
    "w_hh = rnn_layer.weight_hh_l0\n",
    "b_xh = rnn_layer.bias_ih_l0\n",
    "b_hh = rnn_layer.bias_hh_l0\n",
    "print('W_xh shape:', w_xh.shape)\n",
    "print('W_hh shape:', w_hh.shape)\n",
    "print('b_hh shape:', b_hh.shape)\n",
    "print('b_xh shape:', b_xh.shape)"
   ]
  },
  {
   "cell_type": "code",
   "execution_count": 5,
   "metadata": {},
   "outputs": [
    {
     "name": "stdout",
     "output_type": "stream",
     "text": [
      "Time step 0 =>\n",
      "     Input: [[1. 1. 1. 1. 1.]]\n",
      "     Hidden : [[-0.3161478   0.64722455]]\n",
      "     Output (manual) : [[-0.21046415  0.56788784]]\n",
      "     RNN output: [[-0.3519801   0.52525216]]\n",
      "\n",
      "Time step 1 =>\n",
      "     Input: [[2. 2. 2. 2. 2.]]\n",
      "     Hidden : [[-0.73478645  1.2972739 ]]\n",
      "     Output (manual) : [[-0.5741978  0.7945334]]\n",
      "     RNN output: [[-0.68424344  0.76074266]]\n",
      "\n",
      "Time step 2 =>\n",
      "     Input: [[3. 3. 3. 3. 3.]]\n",
      "     Hidden : [[-1.153425   1.9473233]]\n",
      "     Output (manual) : [[-0.8130059  0.918174 ]]\n",
      "     RNN output: [[-0.8649416  0.9046636]]\n",
      "\n"
     ]
    }
   ],
   "source": [
    "x_seq = torch.tensor([[1.0]*5, [2.0]*5, [3.0]*5]).float()\n",
    "## output of the simple RNN:\n",
    "output, hn = rnn_layer(torch.reshape(x_seq, (1, 3, 5)))\n",
    "## manually computing the output:\n",
    "out_man = []\n",
    "for t in range(3):\n",
    "\n",
    "    xt = torch.reshape(x_seq[t], (1, 5))\n",
    "    print(f'Time step {t} =>')\n",
    "    print('     Input:', xt.numpy())\n",
    "\n",
    "    ht = torch.matmul(xt, torch.transpose(w_xh, 0, 1)) + b_hh\n",
    "    print('     Hidden :', ht.detach().numpy())\n",
    "\n",
    "    if t > 0:\n",
    "        prev_h = out_man[t-1]\n",
    "\n",
    "    else:\n",
    "        prev_h = torch.zeros((ht.shape))\n",
    "\n",
    "    ot = ht + torch.matmul(prev_h, torch.transpose(w_hh, 0, 1)) + b_hh\n",
    "    ot = torch.tanh(ot)\n",
    "    out_man.append(ot)\n",
    "    print('     Output (manual) :', ot.detach().numpy())\n",
    "    print('     RNN output:', output[:, t].detach().numpy())\n",
    "    print()\n",
    "\n"
   ]
  },
  {
   "cell_type": "code",
   "execution_count": null,
   "metadata": {},
   "outputs": [],
   "source": []
  }
 ],
 "metadata": {
  "kernelspec": {
   "display_name": "Python 3",
   "language": "python",
   "name": "python3"
  },
  "language_info": {
   "codemirror_mode": {
    "name": "ipython",
    "version": 3
   },
   "file_extension": ".py",
   "mimetype": "text/x-python",
   "name": "python",
   "nbconvert_exporter": "python",
   "pygments_lexer": "ipython3",
   "version": "3.10.8"
  }
 },
 "nbformat": 4,
 "nbformat_minor": 2
}
